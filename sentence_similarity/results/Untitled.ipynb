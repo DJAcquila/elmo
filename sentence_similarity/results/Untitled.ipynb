{
 "cells": [
  {
   "cell_type": "code",
   "execution_count": 9,
   "metadata": {},
   "outputs": [],
   "source": [
    "import pandas as pd\n",
    "import seaborn as sns\n",
    "import json\n",
    "\n",
    "with open('stats_without_preprocessing.json','r') as f:\n",
    "    stats = json.load(f)\n",
    "    \n",
    "df = pd.DataFrame(stats)\n",
    "\n",
    "with open('stats_with_preprocessing.json','r') as f:\n",
    "    stats = json.load(f)\n",
    "preproc_df = pd.DataFrame(stats)\n",
    "\n",
    "with open('stats.json') as f:\n",
    "    bert_stats = json.load(f)\n",
    "bert_df = pd.DataFrame(bert_stats)"
   ]
  },
  {
   "cell_type": "code",
   "execution_count": 10,
   "metadata": {},
   "outputs": [],
   "source": [
    "def get_embedding(x, idx):\n",
    "    try:\n",
    "        return x.split('/')[idx]\n",
    "    except:\n",
    "        return '0'\n",
    "\n",
    "def parse_df(df, proc_label):\n",
    "    df['name'] = df['test'].apply(lambda x: get_embedding(x, 0))\n",
    "    df['embedding'] = df['test'].apply(lambda x: get_embedding(x, 3))\n",
    "    df['model'] = df['test'].apply(lambda x: get_embedding(x, 4).rstrip('.model'))\n",
    "    df['size'] = df['model'].apply(lambda x: int(''.join(filter(str.isdigit, x))) )\n",
    "    df['proc_info'] = proc_label\n",
    "    return df\n",
    "\n",
    "df = parse_df(df, 'not_preprocessed')\n",
    "preproc_df = parse_df(preproc_df, 'preprocessed')\n",
    "bert_df = parse_df(bert_df, 'preprocessed')"
   ]
  },
  {
   "cell_type": "code",
   "execution_count": 11,
   "metadata": {},
   "outputs": [],
   "source": [
    "import matplotlib.pyplot as plt\n",
    "plt.rcParams[\"figure.figsize\"] = (20,4)\n",
    "\n",
    "dataplot = preproc_df.append(bert_df)\n",
    "dataplot = dataplot.append(df)\n",
    "\n",
    "dataplot = dataplot[( dataplot['embedding'].str.contains('0') | dataplot['name'].str.startswith('NILC') )]\n",
    "dataplot = dataplot[dataplot['lang'].str.contains('ptbr')]\n",
    "dataplot = dataplot.sort_values(by='pearson', ascending=False)\n",
    "dataplot = dataplot.rename(columns={\"plot_name\": \"word_embedding\"})\n",
    "\n",
    "dataplot['pearson'] = dataplot['pearson'].apply(lambda x: round(x, 2) )\n",
    "dataplot = dataplot.reset_index()\n",
    "dataplot = dataplot[['name', 'embedding', 'model', 'size', 'proc_info', 'pearson']]\n",
    "dataplot.to_csv('benchmarks.csv', index=False)"
   ]
  },
  {
   "cell_type": "code",
   "execution_count": null,
   "metadata": {},
   "outputs": [],
   "source": []
  }
 ],
 "metadata": {
  "kernelspec": {
   "display_name": "Python 3",
   "language": "python",
   "name": "python3"
  },
  "language_info": {
   "codemirror_mode": {
    "name": "ipython",
    "version": 3
   },
   "file_extension": ".py",
   "mimetype": "text/x-python",
   "name": "python",
   "nbconvert_exporter": "python",
   "pygments_lexer": "ipython3",
   "version": "3.7.3"
  }
 },
 "nbformat": 4,
 "nbformat_minor": 2
}
