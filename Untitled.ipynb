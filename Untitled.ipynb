{
 "cells": [
  {
   "cell_type": "code",
   "execution_count": 33,
   "metadata": {},
   "outputs": [
    {
     "name": "stdout",
     "output_type": "stream",
     "text": [
      "alacarte     evaluate.py  results\t\t   similarity.py\r\n",
      "analogies    logs\t  settings.yaml\t\t   tests.yaml\r\n",
      "datasets     paper\t  SICK_test_annotated.txt  Untitled.ipynb\r\n",
      "distance.py  __pycache__  SICK_test.txt\t\t   utils\r\n",
      "embeddings   README.md\t  SICK_train.txt\r\n"
     ]
    }
   ],
   "source": [
    "!ls"
   ]
  },
  {
   "cell_type": "code",
   "execution_count": 34,
   "metadata": {},
   "outputs": [],
   "source": [
    "import pandas as pd\n",
    "import json\n",
    "\n",
    "conv = lambda x: list(pd.read_csv(x, \n",
    "                                  sep='\\t')\\\n",
    "                      [['sentence_A', 'sentence_B', 'relatedness_score']]\\\n",
    ".rename(columns={\n",
    "    \"sentence_A\" : \"t\",\n",
    "    \"sentence_B\" : \"h\",\n",
    "    \"relatedness_score\" : \"similarity\"\n",
    "}).T.to_dict().values())\n",
    "\n",
    "with open('SICK_test.json','w+') as f:\n",
    "    json.dump(conv('SICK_test_annotated.txt'), f)\n",
    "    \n",
    "with open('SICK_train.json','w+') as f:\n",
    "    json.dump(conv('SICK_train.txt'), f)"
   ]
  },
  {
   "cell_type": "code",
   "execution_count": null,
   "metadata": {},
   "outputs": [],
   "source": []
  }
 ],
 "metadata": {
  "kernelspec": {
   "display_name": "Python 3",
   "language": "python",
   "name": "python3"
  },
  "language_info": {
   "codemirror_mode": {
    "name": "ipython",
    "version": 3
   },
   "file_extension": ".py",
   "mimetype": "text/x-python",
   "name": "python",
   "nbconvert_exporter": "python",
   "pygments_lexer": "ipython3",
   "version": "3.7.3"
  }
 },
 "nbformat": 4,
 "nbformat_minor": 2
}
